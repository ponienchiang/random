{
 "cells": [
  {
   "cell_type": "markdown",
   "metadata": {},
   "source": [
    "## image"
   ]
  },
  {
   "cell_type": "code",
   "execution_count": 6,
   "metadata": {},
   "outputs": [],
   "source": [
    "from PIL import Image\n",
    "import requests\n",
    "from io import BytesIO\n",
    "\n",
    "\n",
    "def prepare_image(url):\n",
    "    response = requests.get(url)\n",
    "    image = Image.open(BytesIO(response.content)).convert(\"RGB\")\n",
    "    return image"
   ]
  },
  {
   "cell_type": "code",
   "execution_count": 24,
   "metadata": {},
   "outputs": [],
   "source": [
    "url = 'https://img.youtube.com/vi/ntaO3-n-isc/hqdefault.jpg'\n",
    "image = prepare_image(url=url)"
   ]
  },
  {
   "cell_type": "markdown",
   "metadata": {},
   "source": [
    "## vqa"
   ]
  },
  {
   "cell_type": "code",
   "execution_count": 1,
   "metadata": {},
   "outputs": [
    {
     "name": "stderr",
     "output_type": "stream",
     "text": [
      "/Users/ponienchiang/.pyenv/versions/3.10.9/envs/venv-local-general-ds/lib/python3.10/site-packages/tqdm/auto.py:21: TqdmWarning: IProgress not found. Please update jupyter and ipywidgets. See https://ipywidgets.readthedocs.io/en/stable/user_install.html\n",
      "  from .autonotebook import tqdm as notebook_tqdm\n"
     ]
    }
   ],
   "source": [
    "from transformers import AutoProcessor, AutoModelForCausalLM\n",
    "import torch"
   ]
  },
  {
   "cell_type": "code",
   "execution_count": 3,
   "metadata": {},
   "outputs": [
    {
     "name": "stderr",
     "output_type": "stream",
     "text": [
      "preprocessor_config.json: 100%|██████████| 503/503 [00:00<00:00, 1.01MB/s]\n",
      "tokenizer_config.json: 100%|██████████| 453/453 [00:00<00:00, 1.98MB/s]\n",
      "vocab.txt: 100%|██████████| 232k/232k [00:00<00:00, 584kB/s]\n",
      "tokenizer.json: 100%|██████████| 711k/711k [00:00<00:00, 3.81MB/s]\n",
      "special_tokens_map.json: 100%|██████████| 125/125 [00:00<00:00, 655kB/s]\n",
      "config.json: 100%|██████████| 2.82k/2.82k [00:00<00:00, 12.7MB/s]\n",
      "pytorch_model.bin: 100%|██████████| 709M/709M [04:46<00:00, 2.48MB/s] \n",
      "generation_config.json: 100%|██████████| 141/141 [00:00<00:00, 590kB/s]\n"
     ]
    }
   ],
   "source": [
    "processor = AutoProcessor.from_pretrained(\"microsoft/git-base-textvqa\")\n",
    "model = AutoModelForCausalLM.from_pretrained(\"microsoft/git-base-textvqa\")"
   ]
  },
  {
   "cell_type": "code",
   "execution_count": 10,
   "metadata": {},
   "outputs": [],
   "source": [
    "def answer_img_question(image, q):\n",
    "    pixel_values = processor(images=image, return_tensors=\"pt\").pixel_values\n",
    "    input_ids = processor(text=q, add_special_tokens=False).input_ids\n",
    "    input_ids = [processor.tokenizer.cls_token_id] + input_ids\n",
    "    input_ids = torch.tensor(input_ids).unsqueeze(0)    \n",
    "    generated_ids = model.generate(pixel_values=pixel_values, input_ids=input_ids, max_length=50)\n",
    "\n",
    "    return processor.batch_decode(generated_ids[:, input_ids.shape[1]:], skip_special_tokens=True)"
   ]
  },
  {
   "cell_type": "code",
   "execution_count": 20,
   "metadata": {},
   "outputs": [
    {
     "data": {
      "text/plain": [
       "['you use your ipad']"
      ]
     },
     "execution_count": 20,
     "metadata": {},
     "output_type": "execute_result"
    }
   ],
   "source": [
    "q = 'What does the text say'\n",
    "answer_img_question(image=image,q=q)"
   ]
  },
  {
   "cell_type": "code",
   "execution_count": 25,
   "metadata": {},
   "outputs": [
    {
     "data": {
      "text/plain": [
       "['3']"
      ]
     },
     "execution_count": 25,
     "metadata": {},
     "output_type": "execute_result"
    }
   ],
   "source": [
    "q = 'how many people are in the image?'\n",
    "answer_img_question(image=image,q=q)"
   ]
  },
  {
   "cell_type": "code",
   "execution_count": 8,
   "metadata": {},
   "outputs": [
    {
     "name": "stdout",
     "output_type": "stream",
     "text": [
      "Generated answer: ['unanswerable']\n"
     ]
    }
   ],
   "source": [
    "\n",
    "\n",
    "pixel_values = processor(images=image, return_tensors=\"pt\").pixel_values\n",
    "\n",
    "question = \"what does the front of the bus say at the top?\"\n",
    "input_ids = processor(text=question, add_special_tokens=False).input_ids\n",
    "input_ids = [processor.tokenizer.cls_token_id] + input_ids\n",
    "input_ids = torch.tensor(input_ids).unsqueeze(0)\n",
    "\n",
    "generated_ids = model.generate(pixel_values=pixel_values, input_ids=input_ids, max_length=50)\n",
    "\n",
    "print(\"Generated answer:\", processor.batch_decode(generated_ids[:, input_ids.shape[1]:], skip_special_tokens=True))\n",
    "     "
   ]
  },
  {
   "cell_type": "code",
   "execution_count": null,
   "metadata": {},
   "outputs": [],
   "source": []
  }
 ],
 "metadata": {
  "kernelspec": {
   "display_name": "venv-general-ds",
   "language": "python",
   "name": "venv-general-ds"
  },
  "language_info": {
   "codemirror_mode": {
    "name": "ipython",
    "version": 3
   },
   "file_extension": ".py",
   "mimetype": "text/x-python",
   "name": "python",
   "nbconvert_exporter": "python",
   "pygments_lexer": "ipython3",
   "version": "3.10.9"
  }
 },
 "nbformat": 4,
 "nbformat_minor": 2
}
