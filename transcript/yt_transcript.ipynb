{
 "cells": [
  {
   "cell_type": "code",
   "execution_count": 1,
   "metadata": {},
   "outputs": [],
   "source": [
    "import json\n",
    "from youtube_transcript_api import YouTubeTranscriptApi\n",
    "import pandas as pd\n",
    "\n",
    "\n",
    "def fetch_transcript_from_video_id(vid) -> list[dict]:\n",
    "    transcript = YouTubeTranscriptApi.get_transcript(vid)\n",
    "    return transcript\n",
    "\n",
    "def save_transcript(transcript, name):\n",
    "    with open(f'./transcripts/{name}.json', 'w', encoding='utf-8') as f:\n",
    "        json.dump(transcript, f, ensure_ascii=False, indent=4)\n",
    "    return 1\n",
    "\n",
    "def read_transcript(name):\n",
    "    with open(f'./transcripts/{name}.json', 'r', encoding='utf-8') as f:\n",
    "        data = json.load(f)   \n",
    "    return pd.DataFrame(data)\n"
   ]
  },
  {
   "cell_type": "code",
   "execution_count": 2,
   "metadata": {},
   "outputs": [],
   "source": [
    "vid = 'zv8d_ry-u-Q'\n",
    "name = 'Louis CK standup clip at Cinema Classics in NYC 8/3/04'\n",
    "name = name.replace('/', '-')  # in case slash mess up file path"
   ]
  },
  {
   "cell_type": "code",
   "execution_count": 3,
   "metadata": {},
   "outputs": [],
   "source": [
    "transcript = fetch_transcript_from_video_id(vid=vid)"
   ]
  },
  {
   "cell_type": "code",
   "execution_count": 4,
   "metadata": {},
   "outputs": [
    {
     "data": {
      "text/plain": [
       "1"
      ]
     },
     "execution_count": 4,
     "metadata": {},
     "output_type": "execute_result"
    }
   ],
   "source": [
    "\n",
    "save_transcript(transcript=transcript, name=name)"
   ]
  },
  {
   "cell_type": "code",
   "execution_count": 5,
   "metadata": {},
   "outputs": [],
   "source": [
    "\n",
    "#name = 'Mark Normand Stand-Up 02-20-13 | CONAN on TBS'\n",
    "ts = read_transcript(name=name)"
   ]
  },
  {
   "cell_type": "code",
   "execution_count": 6,
   "metadata": {},
   "outputs": [
    {
     "data": {
      "text/html": [
       "<div>\n",
       "<style scoped>\n",
       "    .dataframe tbody tr th:only-of-type {\n",
       "        vertical-align: middle;\n",
       "    }\n",
       "\n",
       "    .dataframe tbody tr th {\n",
       "        vertical-align: top;\n",
       "    }\n",
       "\n",
       "    .dataframe thead th {\n",
       "        text-align: right;\n",
       "    }\n",
       "</style>\n",
       "<table border=\"1\" class=\"dataframe\">\n",
       "  <thead>\n",
       "    <tr style=\"text-align: right;\">\n",
       "      <th></th>\n",
       "      <th>text</th>\n",
       "      <th>start</th>\n",
       "      <th>duration</th>\n",
       "    </tr>\n",
       "  </thead>\n",
       "  <tbody>\n",
       "    <tr>\n",
       "      <th>0</th>\n",
       "      <td>thank you very much thank you</td>\n",
       "      <td>12.639</td>\n",
       "      <td>6.161</td>\n",
       "    </tr>\n",
       "    <tr>\n",
       "      <th>1</th>\n",
       "      <td>hi everybody it's nice to be here</td>\n",
       "      <td>15.490</td>\n",
       "      <td>7.119</td>\n",
       "    </tr>\n",
       "    <tr>\n",
       "      <th>2</th>\n",
       "      <td>nice to see you all it is it's nice it's</td>\n",
       "      <td>18.800</td>\n",
       "      <td>5.280</td>\n",
       "    </tr>\n",
       "    <tr>\n",
       "      <th>3</th>\n",
       "      <td>funny to see you all here because I</td>\n",
       "      <td>22.609</td>\n",
       "      <td>3.241</td>\n",
       "    </tr>\n",
       "    <tr>\n",
       "      <th>4</th>\n",
       "      <td>[ __ ] all your mothers so that's weird</td>\n",
       "      <td>24.080</td>\n",
       "      <td>3.689</td>\n",
       "    </tr>\n",
       "    <tr>\n",
       "      <th>...</th>\n",
       "      <td>...</td>\n",
       "      <td>...</td>\n",
       "      <td>...</td>\n",
       "    </tr>\n",
       "    <tr>\n",
       "      <th>186</th>\n",
       "      <td>but then he'd have to I guess if we were</td>\n",
       "      <td>608.150</td>\n",
       "      <td>5.760</td>\n",
       "    </tr>\n",
       "    <tr>\n",
       "      <th>187</th>\n",
       "      <td>69 eight that is mustache we tickle my</td>\n",
       "      <td>610.370</td>\n",
       "      <td>4.710</td>\n",
       "    </tr>\n",
       "    <tr>\n",
       "      <th>188</th>\n",
       "      <td>balls but then that wouldn't really be</td>\n",
       "      <td>613.910</td>\n",
       "      <td>3.720</td>\n",
       "    </tr>\n",
       "    <tr>\n",
       "      <th>189</th>\n",
       "      <td>raped 60 now you can't break people into</td>\n",
       "      <td>615.080</td>\n",
       "      <td>12.590</td>\n",
       "    </tr>\n",
       "    <tr>\n",
       "      <th>190</th>\n",
       "      <td>a sixteen anyway I gotta go thanks a lot</td>\n",
       "      <td>617.630</td>\n",
       "      <td>10.040</td>\n",
       "    </tr>\n",
       "  </tbody>\n",
       "</table>\n",
       "<p>191 rows × 3 columns</p>\n",
       "</div>"
      ],
      "text/plain": [
       "                                         text    start  duration\n",
       "0               thank you very much thank you   12.639     6.161\n",
       "1           hi everybody it's nice to be here   15.490     7.119\n",
       "2    nice to see you all it is it's nice it's   18.800     5.280\n",
       "3         funny to see you all here because I   22.609     3.241\n",
       "4     [ __ ] all your mothers so that's weird   24.080     3.689\n",
       "..                                        ...      ...       ...\n",
       "186  but then he'd have to I guess if we were  608.150     5.760\n",
       "187    69 eight that is mustache we tickle my  610.370     4.710\n",
       "188    balls but then that wouldn't really be  613.910     3.720\n",
       "189  raped 60 now you can't break people into  615.080    12.590\n",
       "190  a sixteen anyway I gotta go thanks a lot  617.630    10.040\n",
       "\n",
       "[191 rows x 3 columns]"
      ]
     },
     "execution_count": 6,
     "metadata": {},
     "output_type": "execute_result"
    }
   ],
   "source": [
    "ts"
   ]
  },
  {
   "cell_type": "code",
   "execution_count": 7,
   "metadata": {},
   "outputs": [
    {
     "name": "stdout",
     "output_type": "stream",
     "text": [
      "thank you very much thank you hi everybody it's nice to be here nice to see you all it is it's nice it's funny to see you all here because I [ __ ] all your mothers so that's weird I'm weird coincidence I [ __ ] all your mothers and here you are you're not mad are you did y'all get together cuz you're mad they liked it so don't worry you shouldn't be mad you should want your mother to enjoy yourself so I promise talking to friend of mine he used to old expression and he said yeah well it's a double-edged sword you know when people say that I don't think you should say that anymore because I don't really relate to it that much because I don't have a lot of [ __ ] swords and everything is a double-edged sword too like nothing is into double-edged swords like I'm going to Vegas yeah well that's a double-edged sword because you can win you lose hey the football game was on that's a double-edged sword because footballs fun but then some else is too when you have watching that even single edge sores are a double-edged sword you cut some with it but the other hands is kind of flat and when it cut well another what sort that bit is kind of Seinfeld II I think and then I try to make it mine by doing it clumsily that's that's how you modernize comedy you take any bits iPhone would have done and just make it sound like you just you don't know what the [ __ ] you're talking about and I need Santa Clara I you ever feel like you're gonna fart and then instead you [ __ ] on your father's face and everybody on the bus is like hey that's not appropriate you're like I thought it was going to be a fart and they go alright I'm a little tired of all this terrorists alarming and the terrorist hatred all this anti terrorists you know terrorists are just people who like to murder other people what the [ __ ] is the big problem seriously I think that they're they become victimized in this country because they have they its those are their religious beliefs and they have a right to them to murder people because here's the thing what do they do that's so bad they kill people who the [ __ ] so what what's so great about people thought they shouldn't be allowed to murder them like I was really thinking about that like so people die yeah [ __ ] I don't know them so I don't guys honestly don't care and if somebody well what if somebody you knew died well that would be sad but then there's the other side to it which is I get to act sad and people would be worried about me and really concerned about me you know like when you were in school did you ever have when you were in school when you were a kid like fantasies about your parents dying so that you'd be really special in school like if your parents got killed you go to school make an announcement Joey's parents die today so everybody and all the cute girls would come up and go are you okay and stuff like that which would never happen they just walk up you go I'm spilling it [ __ ] you you [ __ ] that's what would I happen and that would have even I wouldn't jerk off that having a better time than if I [ __ ] them to read jerking off later or a girl saying that to me after my parents died like a brutal mist of that when it got me out better than [ __ ] that stupid [ __ ] me her no idea no idea where this is going but here's the thing people dying it look people talk about like don't eat dolphins when they're in the tuna pick out the dolphins right I'm going to pick it out and graces but it like you ever look at you ever go to the shop Fortuna and like it says dolphin-safe and you kind of go like yeah but like somehow you think it's not going to be as good I do the right thing but it's probably kind of bland without the dolphin but here's the thing like why not kill and eat a dolphin why not oh because we're not will [ __ ] get it if if you're a tuna [ __ ] you Marina so I don't really see the difference and I think it's wrong to eat tuna and dolphin and cows and everything but I eat them I eat them all because I don't care that it's wrong I totally think it's terrible but that's not important to me so what if it's wrong it's taste good and I like the way it feels when I eat it so [ __ ] it but I'm not gonna pretend doing some of that's okay just because it doesn't think or something so when I think about that I think yeah so people die what's the big deal they're dead and some of them were might have been [ __ ] you don't know so I think the terrorists back the [ __ ] off they get it they get we don't like them I think that that's what they would say if they could make a stay ok are we get it yes blah blah you hate us fine jesus [ __ ] christ you guys I'm the terrorism this show can't move on already you actually seem sort of offended that I'm doing an accent is there everything else said so far are you [ __ ] have we laughed everything that sounds stereotypical I'm not sure I'm sure I'm just cool to laugh at that that sounds like a stereotypical guy anyway was a Mexican accent I was talking about a Mexican terrorist so [ __ ] you because you didn't even know what you were being offended about um what other terrible things to defend all right rape is it's not good to rape people right it's not okay to rape people but what about Jews oh my god did I say that horrible no here's my question it's not okay to write people and I totally think that that you shouldn't read people and I don't rape anybody anybody but when does a person become a person like if you rape a fetus and three weeks it's not really rape cuz it ain't a human yet so [ __ ] it [ __ ] it right in the hole who gives a [ __ ] I don't even think people would mind if you walked up and rape their fetuses sorry it's not a kid yet don't worry about enjoy don't rape me but if you have some way to rain my embryo have at it no I don't think that there's any good read there's you know you could have a reason to rape somebody like say there's somebody you want to [ __ ] them and they won't let you then what else you going to do one other record yeah what do you get a knife [ __ ] oh that's absurd I would have rape Hitler like if I had a time machine I think that the two things I would have done would have been to erase my daughter and enter and raped Hitler because I don't think it would have been enough to kill Hitler I think if I raped him he would have had no balls to do all this [ __ ] he did he would have been just kind of depressed all the time and sitting on the floor of his shower crying when holding his knees and stuff like that and a guy who does that can have the focus to take over the world so I think I would have done some also I wanted to [ __ ] Hitler seriously I'm thinking hot I seriously was attracted to him I think I fantasize about his brush mustache sort of take on my balls I don't know how that would work and then Justin is there but then he'd have to I guess if we were 69 eight that is mustache we tickle my balls but then that wouldn't really be raped 60 now you can't break people into a sixteen anyway I gotta go thanks a lot\n"
     ]
    }
   ],
   "source": [
    "print(' '.join(ts['text']))"
   ]
  },
  {
   "cell_type": "code",
   "execution_count": null,
   "metadata": {},
   "outputs": [],
   "source": []
  }
 ],
 "metadata": {
  "kernelspec": {
   "display_name": "venv-general-ds",
   "language": "python",
   "name": "venv-general-ds"
  },
  "language_info": {
   "codemirror_mode": {
    "name": "ipython",
    "version": 3
   },
   "file_extension": ".py",
   "mimetype": "text/x-python",
   "name": "python",
   "nbconvert_exporter": "python",
   "pygments_lexer": "ipython3",
   "version": "3.10.9"
  },
  "orig_nbformat": 4
 },
 "nbformat": 4,
 "nbformat_minor": 2
}
