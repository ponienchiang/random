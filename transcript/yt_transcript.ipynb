{
 "cells": [
  {
   "cell_type": "code",
   "execution_count": 14,
   "metadata": {},
   "outputs": [],
   "source": [
    "import json\n",
    "from youtube_transcript_api import YouTubeTranscriptApi\n",
    "import pandas as pd\n",
    "\n",
    "\n",
    "def fetch_transcript_from_video_id(vid) -> list[dict]:\n",
    "    transcript = YouTubeTranscriptApi.get_transcript(vid)\n",
    "    return transcript\n",
    "\n",
    "def save_transcript(transcript, name):\n",
    "    with open(f'./transcripts/{name}.json', 'w', encoding='utf-8') as f:\n",
    "        json.dump(transcript, f, ensure_ascii=False, indent=4)\n",
    "    return 1\n",
    "\n",
    "def read_transcript(name):\n",
    "    with open(f'./transcripts/{name}.json', 'r', encoding='utf-8') as f:\n",
    "        data = json.load(f)   \n",
    "    return pd.DataFrame(data)\n"
   ]
  },
  {
   "cell_type": "code",
   "execution_count": 22,
   "metadata": {},
   "outputs": [],
   "source": [
    "vid = 'E3KN_Mhq3UQ'\n",
    "name = '\"Im Nervous, Insecure and Squishy\" - Mark Normand - Full Special'\n",
    "name = name.replace('/', '-')  # in case slash mess up file path"
   ]
  },
  {
   "cell_type": "code",
   "execution_count": 6,
   "metadata": {},
   "outputs": [],
   "source": [
    "transcript = fetch_transcript_from_video_id(vid=vid)"
   ]
  },
  {
   "cell_type": "code",
   "execution_count": 19,
   "metadata": {},
   "outputs": [
    {
     "data": {
      "text/plain": [
       "1"
      ]
     },
     "execution_count": 19,
     "metadata": {},
     "output_type": "execute_result"
    }
   ],
   "source": [
    "\n",
    "save_transcript(transcript=transcript, name=name)"
   ]
  },
  {
   "cell_type": "code",
   "execution_count": 20,
   "metadata": {},
   "outputs": [],
   "source": [
    "ts = read_transcript(name=name)"
   ]
  },
  {
   "cell_type": "code",
   "execution_count": 21,
   "metadata": {},
   "outputs": [
    {
     "data": {
      "text/html": [
       "<div>\n",
       "<style scoped>\n",
       "    .dataframe tbody tr th:only-of-type {\n",
       "        vertical-align: middle;\n",
       "    }\n",
       "\n",
       "    .dataframe tbody tr th {\n",
       "        vertical-align: top;\n",
       "    }\n",
       "\n",
       "    .dataframe thead th {\n",
       "        text-align: right;\n",
       "    }\n",
       "</style>\n",
       "<table border=\"1\" class=\"dataframe\">\n",
       "  <thead>\n",
       "    <tr style=\"text-align: right;\">\n",
       "      <th></th>\n",
       "      <th>text</th>\n",
       "      <th>start</th>\n",
       "      <th>duration</th>\n",
       "    </tr>\n",
       "  </thead>\n",
       "  <tbody>\n",
       "    <tr>\n",
       "      <th>0</th>\n",
       "      <td>foreign</td>\n",
       "      <td>0.299</td>\n",
       "      <td>8.840</td>\n",
       "    </tr>\n",
       "    <tr>\n",
       "      <th>1</th>\n",
       "      <td>[Music]</td>\n",
       "      <td>2.650</td>\n",
       "      <td>10.330</td>\n",
       "    </tr>\n",
       "    <tr>\n",
       "      <th>2</th>\n",
       "      <td>guys have your tickets out</td>\n",
       "      <td>9.139</td>\n",
       "      <td>3.841</td>\n",
       "    </tr>\n",
       "    <tr>\n",
       "      <th>3</th>\n",
       "      <td>hey all right yeah all right</td>\n",
       "      <td>31.980</td>\n",
       "      <td>5.360</td>\n",
       "    </tr>\n",
       "    <tr>\n",
       "      <th>4</th>\n",
       "      <td>hey</td>\n",
       "      <td>35.780</td>\n",
       "      <td>5.380</td>\n",
       "    </tr>\n",
       "    <tr>\n",
       "      <th>...</th>\n",
       "      <td>...</td>\n",
       "      <td>...</td>\n",
       "      <td>...</td>\n",
       "    </tr>\n",
       "    <tr>\n",
       "      <th>587</th>\n",
       "      <td>I'm keeping this</td>\n",
       "      <td>1207.740</td>\n",
       "      <td>2.660</td>\n",
       "    </tr>\n",
       "    <tr>\n",
       "      <th>588</th>\n",
       "      <td>[Music]</td>\n",
       "      <td>1222.470</td>\n",
       "      <td>4.890</td>\n",
       "    </tr>\n",
       "    <tr>\n",
       "      <th>589</th>\n",
       "      <td>[Applause]</td>\n",
       "      <td>1225.680</td>\n",
       "      <td>4.240</td>\n",
       "    </tr>\n",
       "    <tr>\n",
       "      <th>590</th>\n",
       "      <td>house</td>\n",
       "      <td>1227.360</td>\n",
       "      <td>5.719</td>\n",
       "    </tr>\n",
       "    <tr>\n",
       "      <th>591</th>\n",
       "      <td>[Music]</td>\n",
       "      <td>1229.920</td>\n",
       "      <td>3.159</td>\n",
       "    </tr>\n",
       "  </tbody>\n",
       "</table>\n",
       "<p>592 rows × 3 columns</p>\n",
       "</div>"
      ],
      "text/plain": [
       "                             text     start  duration\n",
       "0                         foreign     0.299     8.840\n",
       "1                         [Music]     2.650    10.330\n",
       "2      guys have your tickets out     9.139     3.841\n",
       "3    hey all right yeah all right    31.980     5.360\n",
       "4                             hey    35.780     5.380\n",
       "..                            ...       ...       ...\n",
       "587              I'm keeping this  1207.740     2.660\n",
       "588                       [Music]  1222.470     4.890\n",
       "589                    [Applause]  1225.680     4.240\n",
       "590                         house  1227.360     5.719\n",
       "591                       [Music]  1229.920     3.159\n",
       "\n",
       "[592 rows x 3 columns]"
      ]
     },
     "execution_count": 21,
     "metadata": {},
     "output_type": "execute_result"
    }
   ],
   "source": [
    "ts"
   ]
  },
  {
   "cell_type": "code",
   "execution_count": null,
   "metadata": {},
   "outputs": [],
   "source": []
  }
 ],
 "metadata": {
  "kernelspec": {
   "display_name": "venv-general-ds",
   "language": "python",
   "name": "venv-general-ds"
  },
  "language_info": {
   "codemirror_mode": {
    "name": "ipython",
    "version": 3
   },
   "file_extension": ".py",
   "mimetype": "text/x-python",
   "name": "python",
   "nbconvert_exporter": "python",
   "pygments_lexer": "ipython3",
   "version": "3.10.9"
  },
  "orig_nbformat": 4
 },
 "nbformat": 4,
 "nbformat_minor": 2
}
