{
 "cells": [
  {
   "cell_type": "code",
   "execution_count": 2,
   "metadata": {},
   "outputs": [],
   "source": [
    "import json\n",
    "from youtube_transcript_api import YouTubeTranscriptApi\n",
    "import pandas as pd\n",
    "\n",
    "\n",
    "def fetch_transcript_from_video_id(vid) -> list[dict]:\n",
    "    transcript = YouTubeTranscriptApi.get_transcript(vid)\n",
    "    return transcript\n",
    "\n",
    "def save_transcript(transcript, name):\n",
    "    with open(f'./transcript/transcripts/{name}.json', 'w', encoding='utf-8') as f:\n",
    "        json.dump(transcript, f, ensure_ascii=False, indent=4)\n",
    "    return 1\n",
    "\n",
    "def read_transcript(name):\n",
    "    with open(f'./transcript/transcripts/{name}.json', 'r', encoding='utf-8') as f:\n",
    "        data = json.load(f)   \n",
    "    return pd.DataFrame(data)\n"
   ]
  },
  {
   "cell_type": "code",
   "execution_count": 37,
   "metadata": {},
   "outputs": [],
   "source": [
    "vid = 'SL1v6rbCnEg'\n",
    "name = 'Mark Normand Stand-Up 06/25/15 | CONAN on TBS'\n",
    "name = name.replace('/', '-')  # in case slash mess up file path"
   ]
  },
  {
   "cell_type": "code",
   "execution_count": 38,
   "metadata": {},
   "outputs": [],
   "source": [
    "transcript = fetch_transcript_from_video_id(vid=vid)"
   ]
  },
  {
   "cell_type": "code",
   "execution_count": 39,
   "metadata": {},
   "outputs": [
    {
     "data": {
      "text/plain": [
       "1"
      ]
     },
     "execution_count": 39,
     "metadata": {},
     "output_type": "execute_result"
    }
   ],
   "source": [
    "\n",
    "save_transcript(transcript=transcript, name=name)"
   ]
  },
  {
   "cell_type": "code",
   "execution_count": 32,
   "metadata": {},
   "outputs": [],
   "source": [
    "ts = read_transcript(name=name)"
   ]
  },
  {
   "cell_type": "code",
   "execution_count": 33,
   "metadata": {},
   "outputs": [
    {
     "data": {
      "text/html": [
       "<div>\n",
       "<style scoped>\n",
       "    .dataframe tbody tr th:only-of-type {\n",
       "        vertical-align: middle;\n",
       "    }\n",
       "\n",
       "    .dataframe tbody tr th {\n",
       "        vertical-align: top;\n",
       "    }\n",
       "\n",
       "    .dataframe thead th {\n",
       "        text-align: right;\n",
       "    }\n",
       "</style>\n",
       "<table border=\"1\" class=\"dataframe\">\n",
       "  <thead>\n",
       "    <tr style=\"text-align: right;\">\n",
       "      <th></th>\n",
       "      <th>text</th>\n",
       "      <th>start</th>\n",
       "      <th>duration</th>\n",
       "    </tr>\n",
       "  </thead>\n",
       "  <tbody>\n",
       "    <tr>\n",
       "      <th>0</th>\n",
       "      <td>I do like to drink I've got a bit of a</td>\n",
       "      <td>0.000</td>\n",
       "      <td>6.600</td>\n",
       "    </tr>\n",
       "    <tr>\n",
       "      <th>1</th>\n",
       "      <td>problem I got really drunk last night</td>\n",
       "      <td>3.810</td>\n",
       "      <td>5.369</td>\n",
       "    </tr>\n",
       "    <tr>\n",
       "      <th>2</th>\n",
       "      <td>was incredibly hungover today had</td>\n",
       "      <td>6.600</td>\n",
       "      <td>5.760</td>\n",
       "    </tr>\n",
       "    <tr>\n",
       "      <th>3</th>\n",
       "      <td>another beer hangover went away in that</td>\n",
       "      <td>9.179</td>\n",
       "      <td>5.521</td>\n",
       "    </tr>\n",
       "    <tr>\n",
       "      <th>4</th>\n",
       "      <td>the amazing thing about booze the thing</td>\n",
       "      <td>12.360</td>\n",
       "      <td>3.779</td>\n",
       "    </tr>\n",
       "    <tr>\n",
       "      <th>...</th>\n",
       "      <td>...</td>\n",
       "      <td>...</td>\n",
       "      <td>...</td>\n",
       "    </tr>\n",
       "    <tr>\n",
       "      <th>101</th>\n",
       "      <td>sitting around like you got to marry a</td>\n",
       "      <td>290.850</td>\n",
       "      <td>2.130</td>\n",
       "    </tr>\n",
       "    <tr>\n",
       "      <th>102</th>\n",
       "      <td>Jew you got to marry a Jew and gays</td>\n",
       "      <td>291.810</td>\n",
       "      <td>2.980</td>\n",
       "    </tr>\n",
       "    <tr>\n",
       "      <th>103</th>\n",
       "      <td>alike we'll be fine</td>\n",
       "      <td>292.980</td>\n",
       "      <td>3.340</td>\n",
       "    </tr>\n",
       "    <tr>\n",
       "      <th>104</th>\n",
       "      <td>[Music]</td>\n",
       "      <td>294.790</td>\n",
       "      <td>5.729</td>\n",
       "    </tr>\n",
       "    <tr>\n",
       "      <th>105</th>\n",
       "      <td>[Applause]</td>\n",
       "      <td>296.320</td>\n",
       "      <td>4.199</td>\n",
       "    </tr>\n",
       "  </tbody>\n",
       "</table>\n",
       "<p>106 rows × 3 columns</p>\n",
       "</div>"
      ],
      "text/plain": [
       "                                        text    start  duration\n",
       "0     I do like to drink I've got a bit of a    0.000     6.600\n",
       "1      problem I got really drunk last night    3.810     5.369\n",
       "2          was incredibly hungover today had    6.600     5.760\n",
       "3    another beer hangover went away in that    9.179     5.521\n",
       "4    the amazing thing about booze the thing   12.360     3.779\n",
       "..                                       ...      ...       ...\n",
       "101   sitting around like you got to marry a  290.850     2.130\n",
       "102      Jew you got to marry a Jew and gays  291.810     2.980\n",
       "103                      alike we'll be fine  292.980     3.340\n",
       "104                                  [Music]  294.790     5.729\n",
       "105                               [Applause]  296.320     4.199\n",
       "\n",
       "[106 rows x 3 columns]"
      ]
     },
     "execution_count": 33,
     "metadata": {},
     "output_type": "execute_result"
    }
   ],
   "source": [
    "ts"
   ]
  },
  {
   "cell_type": "code",
   "execution_count": null,
   "metadata": {},
   "outputs": [],
   "source": []
  }
 ],
 "metadata": {
  "kernelspec": {
   "display_name": "venv-general-ds",
   "language": "python",
   "name": "venv-general-ds"
  },
  "language_info": {
   "codemirror_mode": {
    "name": "ipython",
    "version": 3
   },
   "file_extension": ".py",
   "mimetype": "text/x-python",
   "name": "python",
   "nbconvert_exporter": "python",
   "pygments_lexer": "ipython3",
   "version": "3.10.9"
  },
  "orig_nbformat": 4
 },
 "nbformat": 4,
 "nbformat_minor": 2
}
